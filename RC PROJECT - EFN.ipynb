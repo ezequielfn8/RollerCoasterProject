{
 "cells": [
  {
   "cell_type": "markdown",
   "metadata": {},
   "source": [
    "## CodeCademy Project: Roller Coaster\n",
    "\n",
    "Roller coasters are thrilling amusement park rides designed to make you squeal and scream! They take you up high, drop you to the ground quickly, and sometimes even spin you upside down before returning to a stop. Today you will be taking control back from the roller coasters and visualizing data covering international roller coaster rankings and roller coaster statistics.\n",
    "\n",
    "Roller coasters are often split into two main categories based on their construction material: wood or steel. Rankings for the best wood and steel roller coasters from the 2013 to 2018 Golden Ticket Awards are provided in 'Golden_Ticket_Award_Winners_Wood.csv' and 'Golden_Ticket_Award_Winners_Steel.csv', respectively. Load each csv into a DataFrame and inspect it to gain familiarity with the data."
   ]
  },
  {
   "cell_type": "code",
   "execution_count": 1,
   "metadata": {},
   "outputs": [],
   "source": [
    "#First, we import both pandas and matplotlib\n",
    "import pandas as pd\n",
    "from matplotlib import pyplot as plt"
   ]
  },
  {
   "cell_type": "code",
   "execution_count": 2,
   "metadata": {},
   "outputs": [],
   "source": [
    "#Load rankings data here:\n",
    "df_wood = pd.read_csv('Golden_Ticket_Award_Winners_Wood.csv')\n",
    "df_steel = pd.read_csv('Golden_Ticket_Award_Winners_Steel.csv')\n"
   ]
  },
  {
   "cell_type": "code",
   "execution_count": 3,
   "metadata": {},
   "outputs": [
    {
     "data": {
      "text/html": [
       "<div>\n",
       "<style scoped>\n",
       "    .dataframe tbody tr th:only-of-type {\n",
       "        vertical-align: middle;\n",
       "    }\n",
       "\n",
       "    .dataframe tbody tr th {\n",
       "        vertical-align: top;\n",
       "    }\n",
       "\n",
       "    .dataframe thead th {\n",
       "        text-align: right;\n",
       "    }\n",
       "</style>\n",
       "<table border=\"1\" class=\"dataframe\">\n",
       "  <thead>\n",
       "    <tr style=\"text-align: right;\">\n",
       "      <th></th>\n",
       "      <th>Rank</th>\n",
       "      <th>Name</th>\n",
       "      <th>Park</th>\n",
       "      <th>Location</th>\n",
       "      <th>Supplier</th>\n",
       "      <th>Year Built</th>\n",
       "      <th>Points</th>\n",
       "      <th>Year of Rank</th>\n",
       "    </tr>\n",
       "  </thead>\n",
       "  <tbody>\n",
       "    <tr>\n",
       "      <th>0</th>\n",
       "      <td>1</td>\n",
       "      <td>Boulder Dash</td>\n",
       "      <td>Lake Compounce</td>\n",
       "      <td>Bristol, Conn.</td>\n",
       "      <td>CCI</td>\n",
       "      <td>2000</td>\n",
       "      <td>1333</td>\n",
       "      <td>2013</td>\n",
       "    </tr>\n",
       "    <tr>\n",
       "      <th>1</th>\n",
       "      <td>2</td>\n",
       "      <td>El Toro</td>\n",
       "      <td>Six Flags Great Adventure</td>\n",
       "      <td>Jackson, N.J.</td>\n",
       "      <td>Intamin</td>\n",
       "      <td>2006</td>\n",
       "      <td>1302</td>\n",
       "      <td>2013</td>\n",
       "    </tr>\n",
       "    <tr>\n",
       "      <th>2</th>\n",
       "      <td>3</td>\n",
       "      <td>Phoenix</td>\n",
       "      <td>Knoebels Amusement Resort</td>\n",
       "      <td>Elysburg, Pa.</td>\n",
       "      <td>Dinn/PTC-Schmeck</td>\n",
       "      <td>1985</td>\n",
       "      <td>1088</td>\n",
       "      <td>2013</td>\n",
       "    </tr>\n",
       "    <tr>\n",
       "      <th>3</th>\n",
       "      <td>4</td>\n",
       "      <td>The Voyage</td>\n",
       "      <td>Holiday World</td>\n",
       "      <td>Santa Claus, Ind.</td>\n",
       "      <td>Gravity Group</td>\n",
       "      <td>2006</td>\n",
       "      <td>1086</td>\n",
       "      <td>2013</td>\n",
       "    </tr>\n",
       "    <tr>\n",
       "      <th>4</th>\n",
       "      <td>5</td>\n",
       "      <td>Thunderhead</td>\n",
       "      <td>Dollywood</td>\n",
       "      <td>Pigeon Forge, Tenn.</td>\n",
       "      <td>GCII</td>\n",
       "      <td>2004</td>\n",
       "      <td>923</td>\n",
       "      <td>2013</td>\n",
       "    </tr>\n",
       "    <tr>\n",
       "      <th>5</th>\n",
       "      <td>6</td>\n",
       "      <td>Ravine Flyer II</td>\n",
       "      <td>Waldameer</td>\n",
       "      <td>Erie, Pa.</td>\n",
       "      <td>Gravity Group</td>\n",
       "      <td>2008</td>\n",
       "      <td>712</td>\n",
       "      <td>2013</td>\n",
       "    </tr>\n",
       "    <tr>\n",
       "      <th>6</th>\n",
       "      <td>7</td>\n",
       "      <td>Outlaw Run</td>\n",
       "      <td>Silver Dollar City</td>\n",
       "      <td>Branson, Mo.</td>\n",
       "      <td>Rocky Mountain</td>\n",
       "      <td>2013</td>\n",
       "      <td>599</td>\n",
       "      <td>2013</td>\n",
       "    </tr>\n",
       "    <tr>\n",
       "      <th>7</th>\n",
       "      <td>8</td>\n",
       "      <td>The Beast</td>\n",
       "      <td>Kings Island</td>\n",
       "      <td>Kings Mills, Ohio</td>\n",
       "      <td>KECO</td>\n",
       "      <td>1979</td>\n",
       "      <td>555</td>\n",
       "      <td>2013</td>\n",
       "    </tr>\n",
       "    <tr>\n",
       "      <th>8</th>\n",
       "      <td>9</td>\n",
       "      <td>Lightning Racer</td>\n",
       "      <td>Hersheypark</td>\n",
       "      <td>Hershey, Pa.</td>\n",
       "      <td>GCII</td>\n",
       "      <td>2000</td>\n",
       "      <td>364</td>\n",
       "      <td>2013</td>\n",
       "    </tr>\n",
       "    <tr>\n",
       "      <th>9</th>\n",
       "      <td>10</td>\n",
       "      <td>Shivering Timbers</td>\n",
       "      <td>Michigan’s Adventure</td>\n",
       "      <td>Muskegon, Mich.</td>\n",
       "      <td>CCI</td>\n",
       "      <td>1998</td>\n",
       "      <td>304</td>\n",
       "      <td>2013</td>\n",
       "    </tr>\n",
       "  </tbody>\n",
       "</table>\n",
       "</div>"
      ],
      "text/plain": [
       "   Rank               Name                       Park             Location  \\\n",
       "0     1       Boulder Dash             Lake Compounce       Bristol, Conn.   \n",
       "1     2            El Toro  Six Flags Great Adventure        Jackson, N.J.   \n",
       "2     3            Phoenix  Knoebels Amusement Resort        Elysburg, Pa.   \n",
       "3     4         The Voyage              Holiday World    Santa Claus, Ind.   \n",
       "4     5        Thunderhead                  Dollywood  Pigeon Forge, Tenn.   \n",
       "5     6    Ravine Flyer II                  Waldameer            Erie, Pa.   \n",
       "6     7         Outlaw Run         Silver Dollar City         Branson, Mo.   \n",
       "7     8          The Beast               Kings Island    Kings Mills, Ohio   \n",
       "8     9    Lightning Racer                Hersheypark         Hershey, Pa.   \n",
       "9    10  Shivering Timbers       Michigan’s Adventure      Muskegon, Mich.   \n",
       "\n",
       "           Supplier  Year Built  Points  Year of Rank  \n",
       "0               CCI        2000    1333          2013  \n",
       "1           Intamin        2006    1302          2013  \n",
       "2  Dinn/PTC-Schmeck        1985    1088          2013  \n",
       "3     Gravity Group        2006    1086          2013  \n",
       "4              GCII        2004     923          2013  \n",
       "5     Gravity Group        2008     712          2013  \n",
       "6    Rocky Mountain        2013     599          2013  \n",
       "7              KECO        1979     555          2013  \n",
       "8              GCII        2000     364          2013  \n",
       "9               CCI        1998     304          2013  "
      ]
     },
     "execution_count": 3,
     "metadata": {},
     "output_type": "execute_result"
    }
   ],
   "source": [
    "#Let's inspect the wood DataFrame first:\n",
    "df_wood.head(10)"
   ]
  },
  {
   "cell_type": "code",
   "execution_count": 4,
   "metadata": {},
   "outputs": [
    {
     "name": "stdout",
     "output_type": "stream",
     "text": [
      "<class 'pandas.core.frame.DataFrame'>\n",
      "RangeIndex: 180 entries, 0 to 179\n",
      "Data columns (total 8 columns):\n",
      " #   Column        Non-Null Count  Dtype \n",
      "---  ------        --------------  ----- \n",
      " 0   Rank          180 non-null    int64 \n",
      " 1   Name          180 non-null    object\n",
      " 2   Park          180 non-null    object\n",
      " 3   Location      180 non-null    object\n",
      " 4   Supplier      179 non-null    object\n",
      " 5   Year Built    180 non-null    int64 \n",
      " 6   Points        180 non-null    int64 \n",
      " 7   Year of Rank  180 non-null    int64 \n",
      "dtypes: int64(4), object(4)\n",
      "memory usage: 11.4+ KB\n"
     ]
    }
   ],
   "source": [
    "#It could be useful to print the DataFrame's information to know how many entries it has\n",
    "df_wood.info()"
   ]
  },
  {
   "cell_type": "code",
   "execution_count": 5,
   "metadata": {},
   "outputs": [
    {
     "data": {
      "text/html": [
       "<div>\n",
       "<style scoped>\n",
       "    .dataframe tbody tr th:only-of-type {\n",
       "        vertical-align: middle;\n",
       "    }\n",
       "\n",
       "    .dataframe tbody tr th {\n",
       "        vertical-align: top;\n",
       "    }\n",
       "\n",
       "    .dataframe thead th {\n",
       "        text-align: right;\n",
       "    }\n",
       "</style>\n",
       "<table border=\"1\" class=\"dataframe\">\n",
       "  <thead>\n",
       "    <tr style=\"text-align: right;\">\n",
       "      <th></th>\n",
       "      <th>index</th>\n",
       "      <th>Rank</th>\n",
       "      <th>Name</th>\n",
       "      <th>Park</th>\n",
       "      <th>Location</th>\n",
       "      <th>Supplier</th>\n",
       "      <th>Year Built</th>\n",
       "      <th>Points</th>\n",
       "      <th>Year of Rank</th>\n",
       "    </tr>\n",
       "  </thead>\n",
       "  <tbody>\n",
       "    <tr>\n",
       "      <th>0</th>\n",
       "      <td>125</td>\n",
       "      <td>46</td>\n",
       "      <td>Grizzly (KD)</td>\n",
       "      <td>Kings Dominion</td>\n",
       "      <td>Doswell, Va.</td>\n",
       "      <td>NaN</td>\n",
       "      <td>1982</td>\n",
       "      <td>81</td>\n",
       "      <td>2017</td>\n",
       "    </tr>\n",
       "  </tbody>\n",
       "</table>\n",
       "</div>"
      ],
      "text/plain": [
       "   index  Rank          Name            Park      Location Supplier  \\\n",
       "0    125    46  Grizzly (KD)  Kings Dominion  Doswell, Va.      NaN   \n",
       "\n",
       "   Year Built  Points  Year of Rank  \n",
       "0        1982      81          2017  "
      ]
     },
     "execution_count": 5,
     "metadata": {},
     "output_type": "execute_result"
    }
   ],
   "source": [
    "#We can find that there is one row in the first DataFrame, that has no Supplier. Let's search which is its name.\n",
    "df_wood[df_wood.Supplier.isnull()].reset_index()"
   ]
  },
  {
   "cell_type": "code",
   "execution_count": 6,
   "metadata": {},
   "outputs": [
    {
     "data": {
      "text/html": [
       "<div>\n",
       "<style scoped>\n",
       "    .dataframe tbody tr th:only-of-type {\n",
       "        vertical-align: middle;\n",
       "    }\n",
       "\n",
       "    .dataframe tbody tr th {\n",
       "        vertical-align: top;\n",
       "    }\n",
       "\n",
       "    .dataframe thead th {\n",
       "        text-align: right;\n",
       "    }\n",
       "</style>\n",
       "<table border=\"1\" class=\"dataframe\">\n",
       "  <thead>\n",
       "    <tr style=\"text-align: right;\">\n",
       "      <th></th>\n",
       "      <th>Rank</th>\n",
       "      <th>Name</th>\n",
       "      <th>Park</th>\n",
       "      <th>Location</th>\n",
       "      <th>Supplier</th>\n",
       "      <th>Year Built</th>\n",
       "      <th>Points</th>\n",
       "      <th>Year of Rank</th>\n",
       "    </tr>\n",
       "  </thead>\n",
       "  <tbody>\n",
       "    <tr>\n",
       "      <th>0</th>\n",
       "      <td>1</td>\n",
       "      <td>Millennium Force</td>\n",
       "      <td>Cedar Point</td>\n",
       "      <td>Sandusky, Ohio</td>\n",
       "      <td>Intamin</td>\n",
       "      <td>2000</td>\n",
       "      <td>1204</td>\n",
       "      <td>2013</td>\n",
       "    </tr>\n",
       "    <tr>\n",
       "      <th>1</th>\n",
       "      <td>2</td>\n",
       "      <td>Bizarro</td>\n",
       "      <td>Six Flags New England</td>\n",
       "      <td>Agawam, Mass.</td>\n",
       "      <td>Intamin</td>\n",
       "      <td>2000</td>\n",
       "      <td>1011</td>\n",
       "      <td>2013</td>\n",
       "    </tr>\n",
       "    <tr>\n",
       "      <th>2</th>\n",
       "      <td>3</td>\n",
       "      <td>Expedition GeForce</td>\n",
       "      <td>Holiday Park</td>\n",
       "      <td>Hassloch, Germany</td>\n",
       "      <td>Intamin</td>\n",
       "      <td>2001</td>\n",
       "      <td>598</td>\n",
       "      <td>2013</td>\n",
       "    </tr>\n",
       "    <tr>\n",
       "      <th>3</th>\n",
       "      <td>4</td>\n",
       "      <td>Nitro</td>\n",
       "      <td>Six Flags Great Adventure</td>\n",
       "      <td>Jackson, N.J.</td>\n",
       "      <td>B&amp;M</td>\n",
       "      <td>2001</td>\n",
       "      <td>596</td>\n",
       "      <td>2013</td>\n",
       "    </tr>\n",
       "    <tr>\n",
       "      <th>4</th>\n",
       "      <td>5</td>\n",
       "      <td>Apollo’s Chariot</td>\n",
       "      <td>Busch Gardens Williamsburg</td>\n",
       "      <td>Williamsburg, Va.</td>\n",
       "      <td>B&amp;M</td>\n",
       "      <td>1999</td>\n",
       "      <td>542</td>\n",
       "      <td>2013</td>\n",
       "    </tr>\n",
       "  </tbody>\n",
       "</table>\n",
       "</div>"
      ],
      "text/plain": [
       "   Rank                Name                        Park           Location  \\\n",
       "0     1    Millennium Force                 Cedar Point     Sandusky, Ohio   \n",
       "1     2             Bizarro       Six Flags New England      Agawam, Mass.   \n",
       "2     3  Expedition GeForce                Holiday Park  Hassloch, Germany   \n",
       "3     4               Nitro   Six Flags Great Adventure      Jackson, N.J.   \n",
       "4     5    Apollo’s Chariot  Busch Gardens Williamsburg  Williamsburg, Va.   \n",
       "\n",
       "  Supplier  Year Built  Points  Year of Rank  \n",
       "0  Intamin        2000    1204          2013  \n",
       "1  Intamin        2000    1011          2013  \n",
       "2  Intamin        2001     598          2013  \n",
       "3      B&M        2001     596          2013  \n",
       "4      B&M        1999     542          2013  "
      ]
     },
     "execution_count": 6,
     "metadata": {},
     "output_type": "execute_result"
    }
   ],
   "source": [
    "#Now, we can do the same with the second DataFrame\n",
    "df_steel.head(5)"
   ]
  },
  {
   "cell_type": "code",
   "execution_count": 7,
   "metadata": {},
   "outputs": [
    {
     "name": "stdout",
     "output_type": "stream",
     "text": [
      "<class 'pandas.core.frame.DataFrame'>\n",
      "RangeIndex: 180 entries, 0 to 179\n",
      "Data columns (total 8 columns):\n",
      " #   Column        Non-Null Count  Dtype \n",
      "---  ------        --------------  ----- \n",
      " 0   Rank          180 non-null    int64 \n",
      " 1   Name          180 non-null    object\n",
      " 2   Park          180 non-null    object\n",
      " 3   Location      180 non-null    object\n",
      " 4   Supplier      180 non-null    object\n",
      " 5   Year Built    180 non-null    int64 \n",
      " 6   Points        180 non-null    int64 \n",
      " 7   Year of Rank  180 non-null    int64 \n",
      "dtypes: int64(4), object(4)\n",
      "memory usage: 11.4+ KB\n"
     ]
    }
   ],
   "source": [
    "df_steel.info()"
   ]
  },
  {
   "cell_type": "code",
   "execution_count": 8,
   "metadata": {},
   "outputs": [
    {
     "name": "stdout",
     "output_type": "stream",
     "text": [
      "15\n"
     ]
    }
   ],
   "source": [
    "#We can search how many Suppliers are in this rankings\n",
    "print(df_steel.Supplier.nunique())"
   ]
  },
  {
   "cell_type": "code",
   "execution_count": 9,
   "metadata": {},
   "outputs": [
    {
     "data": {
      "text/plain": [
       "Year of Rank\n",
       "2013    10\n",
       "2014    10\n",
       "2015    10\n",
       "2016    50\n",
       "2017    50\n",
       "2018    50\n",
       "Name: Rank, dtype: int64"
      ]
     },
     "execution_count": 9,
     "metadata": {},
     "output_type": "execute_result"
    }
   ],
   "source": [
    "#We can also check if some years we have more rankings in our DataFrames\n",
    "df_steel.groupby('Year of Rank').Rank.count()"
   ]
  },
  {
   "cell_type": "code",
   "execution_count": 10,
   "metadata": {},
   "outputs": [
    {
     "data": {
      "text/plain": [
       "Year of Rank\n",
       "2013    10\n",
       "2014    10\n",
       "2015    10\n",
       "2016    50\n",
       "2017    50\n",
       "2018    50\n",
       "Name: Name, dtype: int64"
      ]
     },
     "execution_count": 10,
     "metadata": {},
     "output_type": "execute_result"
    }
   ],
   "source": [
    "#As we saw above, from 2016 the rankings contain 50 rows, while in the previous years we have only 10.\n",
    "#The same happens to the Wood DataFrame\n",
    "df_wood.groupby('Year of Rank').Name.count()"
   ]
  },
  {
   "cell_type": "code",
   "execution_count": 11,
   "metadata": {},
   "outputs": [
    {
     "name": "stdout",
     "output_type": "stream",
     "text": [
      "Park\n",
      "Knoebels Amusement Resort    12\n",
      "Holiday World                12\n",
      "Dollywood                     9\n",
      "Six Flags St. Louis           9\n",
      "Kings Island                  8\n",
      "Name: Name, dtype: int64\n"
     ]
    }
   ],
   "source": [
    "#If we look at the DataFrames, we can question ourself which is the park with more appearances in the rankings. \n",
    "#We can find out this information here:\n",
    "#First, with the wood rankings\n",
    "park_rankings_wood = df_wood.groupby('Park').Name.count()\n",
    "park_rankings_wood.sort_values(inplace=True, ascending=False)\n",
    "print(park_rankings_wood.head(5))"
   ]
  },
  {
   "cell_type": "code",
   "execution_count": 12,
   "metadata": {},
   "outputs": [
    {
     "name": "stdout",
     "output_type": "stream",
     "text": [
      "Park\n",
      "Cedar Point                   19\n",
      "Busch Gardens Williamsburg    12\n",
      "Carowinds                     10\n",
      "Six Flags New England          9\n",
      "Busch Gardens Tampa            9\n",
      "Name: Name, dtype: int64\n"
     ]
    }
   ],
   "source": [
    "#We can do the same with whe steel rankings\n",
    "park_rankings_steel = df_steel.groupby('Park').Name.count()\n",
    "park_rankings_steel.sort_values(inplace=True, ascending=False)\n",
    "print(park_rankings_steel.head(5))"
   ]
  },
  {
   "cell_type": "code",
   "execution_count": 13,
   "metadata": {},
   "outputs": [
    {
     "data": {
      "text/html": [
       "<div>\n",
       "<style scoped>\n",
       "    .dataframe tbody tr th:only-of-type {\n",
       "        vertical-align: middle;\n",
       "    }\n",
       "\n",
       "    .dataframe tbody tr th {\n",
       "        vertical-align: top;\n",
       "    }\n",
       "\n",
       "    .dataframe thead th {\n",
       "        text-align: right;\n",
       "    }\n",
       "</style>\n",
       "<table border=\"1\" class=\"dataframe\">\n",
       "  <thead>\n",
       "    <tr style=\"text-align: right;\">\n",
       "      <th></th>\n",
       "      <th>index</th>\n",
       "      <th>Rank</th>\n",
       "      <th>Name</th>\n",
       "      <th>Park</th>\n",
       "      <th>Location</th>\n",
       "      <th>Supplier</th>\n",
       "      <th>Year Built</th>\n",
       "      <th>Points</th>\n",
       "      <th>Year of Rank</th>\n",
       "    </tr>\n",
       "  </thead>\n",
       "  <tbody>\n",
       "    <tr>\n",
       "      <th>0</th>\n",
       "      <td>0</td>\n",
       "      <td>1</td>\n",
       "      <td>Boulder Dash</td>\n",
       "      <td>Lake Compounce</td>\n",
       "      <td>Bristol, Conn.</td>\n",
       "      <td>CCI</td>\n",
       "      <td>2000</td>\n",
       "      <td>1333</td>\n",
       "      <td>2013</td>\n",
       "    </tr>\n",
       "    <tr>\n",
       "      <th>1</th>\n",
       "      <td>10</td>\n",
       "      <td>1</td>\n",
       "      <td>Boulder Dash</td>\n",
       "      <td>Lake Compounce</td>\n",
       "      <td>Bristol, Conn.</td>\n",
       "      <td>CCI</td>\n",
       "      <td>2000</td>\n",
       "      <td>1480</td>\n",
       "      <td>2014</td>\n",
       "    </tr>\n",
       "    <tr>\n",
       "      <th>2</th>\n",
       "      <td>20</td>\n",
       "      <td>1</td>\n",
       "      <td>Boulder Dash</td>\n",
       "      <td>Lake Compounce</td>\n",
       "      <td>Bristol, Conn.</td>\n",
       "      <td>CCI</td>\n",
       "      <td>2000</td>\n",
       "      <td>1625</td>\n",
       "      <td>2015</td>\n",
       "    </tr>\n",
       "    <tr>\n",
       "      <th>3</th>\n",
       "      <td>30</td>\n",
       "      <td>1</td>\n",
       "      <td>Boulder Dash</td>\n",
       "      <td>Lake Compounce</td>\n",
       "      <td>Bristol, Conn.</td>\n",
       "      <td>Custom Coasters</td>\n",
       "      <td>2000</td>\n",
       "      <td>1216</td>\n",
       "      <td>2016</td>\n",
       "    </tr>\n",
       "    <tr>\n",
       "      <th>4</th>\n",
       "      <td>80</td>\n",
       "      <td>1</td>\n",
       "      <td>El Toro</td>\n",
       "      <td>Six Flags Great Adventure</td>\n",
       "      <td>Jackson, N.J.</td>\n",
       "      <td>Intamin</td>\n",
       "      <td>2009</td>\n",
       "      <td>1241</td>\n",
       "      <td>2017</td>\n",
       "    </tr>\n",
       "    <tr>\n",
       "      <th>5</th>\n",
       "      <td>130</td>\n",
       "      <td>1</td>\n",
       "      <td>Phoenix</td>\n",
       "      <td>Knoebels Amusement Resort</td>\n",
       "      <td>Elysburg, Pa.</td>\n",
       "      <td>PTC/Schmeck-Dinn</td>\n",
       "      <td>1985</td>\n",
       "      <td>1330</td>\n",
       "      <td>2018</td>\n",
       "    </tr>\n",
       "  </tbody>\n",
       "</table>\n",
       "</div>"
      ],
      "text/plain": [
       "   index  Rank          Name                       Park        Location  \\\n",
       "0      0     1  Boulder Dash             Lake Compounce  Bristol, Conn.   \n",
       "1     10     1  Boulder Dash             Lake Compounce  Bristol, Conn.   \n",
       "2     20     1  Boulder Dash             Lake Compounce  Bristol, Conn.   \n",
       "3     30     1  Boulder Dash             Lake Compounce  Bristol, Conn.   \n",
       "4     80     1       El Toro  Six Flags Great Adventure   Jackson, N.J.   \n",
       "5    130     1       Phoenix  Knoebels Amusement Resort   Elysburg, Pa.   \n",
       "\n",
       "           Supplier  Year Built  Points  Year of Rank  \n",
       "0               CCI        2000    1333          2013  \n",
       "1               CCI        2000    1480          2014  \n",
       "2               CCI        2000    1625          2015  \n",
       "3   Custom Coasters        2000    1216          2016  \n",
       "4           Intamin        2009    1241          2017  \n",
       "5  PTC/Schmeck-Dinn        1985    1330          2018  "
      ]
     },
     "execution_count": 13,
     "metadata": {},
     "output_type": "execute_result"
    }
   ],
   "source": [
    "#Finally, we need to show the winner of each year. We begin with the wood rankings:\n",
    "df_wood[df_wood.Rank==1].reset_index()\n"
   ]
  },
  {
   "cell_type": "code",
   "execution_count": 14,
   "metadata": {},
   "outputs": [
    {
     "data": {
      "text/html": [
       "<div>\n",
       "<style scoped>\n",
       "    .dataframe tbody tr th:only-of-type {\n",
       "        vertical-align: middle;\n",
       "    }\n",
       "\n",
       "    .dataframe tbody tr th {\n",
       "        vertical-align: top;\n",
       "    }\n",
       "\n",
       "    .dataframe thead th {\n",
       "        text-align: right;\n",
       "    }\n",
       "</style>\n",
       "<table border=\"1\" class=\"dataframe\">\n",
       "  <thead>\n",
       "    <tr style=\"text-align: right;\">\n",
       "      <th></th>\n",
       "      <th>index</th>\n",
       "      <th>Rank</th>\n",
       "      <th>Name</th>\n",
       "      <th>Park</th>\n",
       "      <th>Location</th>\n",
       "      <th>Supplier</th>\n",
       "      <th>Year Built</th>\n",
       "      <th>Points</th>\n",
       "      <th>Year of Rank</th>\n",
       "    </tr>\n",
       "  </thead>\n",
       "  <tbody>\n",
       "    <tr>\n",
       "      <th>0</th>\n",
       "      <td>0</td>\n",
       "      <td>1</td>\n",
       "      <td>Millennium Force</td>\n",
       "      <td>Cedar Point</td>\n",
       "      <td>Sandusky, Ohio</td>\n",
       "      <td>Intamin</td>\n",
       "      <td>2000</td>\n",
       "      <td>1204</td>\n",
       "      <td>2013</td>\n",
       "    </tr>\n",
       "    <tr>\n",
       "      <th>1</th>\n",
       "      <td>10</td>\n",
       "      <td>1</td>\n",
       "      <td>Millennium Force</td>\n",
       "      <td>Cedar Point</td>\n",
       "      <td>Sandusky, Ohio</td>\n",
       "      <td>Intamin</td>\n",
       "      <td>2000</td>\n",
       "      <td>1139</td>\n",
       "      <td>2014</td>\n",
       "    </tr>\n",
       "    <tr>\n",
       "      <th>2</th>\n",
       "      <td>20</td>\n",
       "      <td>1</td>\n",
       "      <td>Millennium Force</td>\n",
       "      <td>Cedar Point</td>\n",
       "      <td>Sandusky, Ohio</td>\n",
       "      <td>Intamin</td>\n",
       "      <td>2000</td>\n",
       "      <td>1205</td>\n",
       "      <td>2015</td>\n",
       "    </tr>\n",
       "    <tr>\n",
       "      <th>3</th>\n",
       "      <td>30</td>\n",
       "      <td>1</td>\n",
       "      <td>Fury 325</td>\n",
       "      <td>Carowinds</td>\n",
       "      <td>Charlotte, N.C.</td>\n",
       "      <td>B&amp;M</td>\n",
       "      <td>2015</td>\n",
       "      <td>1126</td>\n",
       "      <td>2016</td>\n",
       "    </tr>\n",
       "    <tr>\n",
       "      <th>4</th>\n",
       "      <td>80</td>\n",
       "      <td>1</td>\n",
       "      <td>Fury 325</td>\n",
       "      <td>Carowinds</td>\n",
       "      <td>Charlotte, N.C.</td>\n",
       "      <td>B&amp;M</td>\n",
       "      <td>2015</td>\n",
       "      <td>1354</td>\n",
       "      <td>2017</td>\n",
       "    </tr>\n",
       "    <tr>\n",
       "      <th>5</th>\n",
       "      <td>130</td>\n",
       "      <td>1</td>\n",
       "      <td>Fury 325</td>\n",
       "      <td>Carowinds</td>\n",
       "      <td>Charlotte, N.C.</td>\n",
       "      <td>B&amp;M</td>\n",
       "      <td>2015</td>\n",
       "      <td>1222</td>\n",
       "      <td>2018</td>\n",
       "    </tr>\n",
       "  </tbody>\n",
       "</table>\n",
       "</div>"
      ],
      "text/plain": [
       "   index  Rank              Name         Park         Location Supplier  \\\n",
       "0      0     1  Millennium Force  Cedar Point   Sandusky, Ohio  Intamin   \n",
       "1     10     1  Millennium Force  Cedar Point   Sandusky, Ohio  Intamin   \n",
       "2     20     1  Millennium Force  Cedar Point   Sandusky, Ohio  Intamin   \n",
       "3     30     1          Fury 325    Carowinds  Charlotte, N.C.      B&M   \n",
       "4     80     1          Fury 325    Carowinds  Charlotte, N.C.      B&M   \n",
       "5    130     1          Fury 325    Carowinds  Charlotte, N.C.      B&M   \n",
       "\n",
       "   Year Built  Points  Year of Rank  \n",
       "0        2000    1204          2013  \n",
       "1        2000    1139          2014  \n",
       "2        2000    1205          2015  \n",
       "3        2015    1126          2016  \n",
       "4        2015    1354          2017  \n",
       "5        2015    1222          2018  "
      ]
     },
     "execution_count": 14,
     "metadata": {},
     "output_type": "execute_result"
    }
   ],
   "source": [
    "#We can show the winners of the steel rankings too:\n",
    "df_steel[df_steel.Rank==1].reset_index()"
   ]
  },
  {
   "cell_type": "markdown",
   "metadata": {},
   "source": [
    "Write a function that will plot the ranking of a given roller coaster over time as a line. Your function should take a roller coaster’s name and a ranking DataFrame as arguments. Make sure to include informative labels that describe your visualization.\n",
    "\n",
    "Call your function with \"El Toro\" as the roller coaster name and the wood ranking DataFrame. What issue do you notice? Update your function with an additional argument to alleviate the problem, and retest your function."
   ]
  },
  {
   "cell_type": "code",
   "execution_count": 15,
   "metadata": {},
   "outputs": [
    {
     "data": {
      "image/png": "[encoded data removed]",
      "text/plain": [
       "<Figure size 432x288 with 1 Axes>"
      ]
     },
     "metadata": {
      "needs_background": "light"
     },
     "output_type": "display_data"
    }
   ],
   "source": [
    "#We may want to rename the 'Year of Rank' column, so it is easier for us to create the function later:\n",
    "df_steel.rename(columns= {'Year of Rank' : 'Year'}, inplace = True)\n",
    "df_wood.rename(columns= {'Year of Rank' : 'Year'}, inplace = True)\n",
    "\n",
    "#This is the function created to plot the ranking of a given roller coaster name, year by year:\n",
    "def rc_ranking(rc_name,df):\n",
    "    df1 = df[df.Name==rc_name]\n",
    "    ax = plt.subplot(1,1,1)\n",
    "    ax.invert_yaxis()\n",
    "    plt.plot(df1.Year,df1.Rank, marker = 'o')\n",
    "    plt.axis([2013,2018,0,50])\n",
    "    plt.xlabel('Year')\n",
    "    plt.ylabel('Ranking')\n",
    "    plt.title('Ranking by year: ' + rc_name)\n",
    "    plt.show()\n",
    "\n",
    "#Let's call the function with the El Toro roller coaster:\n",
    "rc_ranking(\"El Toro\",df_wood)"
   ]
  },
  {
   "cell_type": "markdown",
   "metadata": {},
   "source": [
    "Write a function that will plot the ranking of two given roller coasters over time as lines. Your function should take both roller coasters’ names and a ranking DataFrame as arguments. Make sure to include informative labels that describe your visualization.\n",
    "\n",
    "Call your function with \"El Toro\" as one roller coaster name, “Boulder Dash“ as the other roller coaster name, and the wood ranking DataFrame. What issue do you notice? Update your function with two additional arguments to alleviate the problem, and retest your function."
   ]
  },
  {
   "cell_type": "code",
   "execution_count": 16,
   "metadata": {},
   "outputs": [
    {
     "data": {
      "image/png": "[encoded data removed]",
      "text/plain": [
       "<Figure size 432x288 with 1 Axes>"
      ]
     },
     "metadata": {
      "needs_background": "light"
     },
     "output_type": "display_data"
    }
   ],
   "source": [
    "#The function will be similar to the previous one, but here it is important to label each line. \n",
    "#This can be included on our function.\n",
    "def tworc_ranking(name1,name2,df):\n",
    "    df1 = df[df.Name==name1]\n",
    "    df2 = df[df.Name==name2]\n",
    "    ax = plt.subplot(1,1,1)\n",
    "    ax.invert_yaxis()\n",
    "    plt.plot(df1.Year,df1.Rank, marker = 'o', color = 'Red', label = name1)\n",
    "    plt.plot(df2.Year,df2.Rank, marker = 'o', color = 'Blue', label = name2)\n",
    "    plt.axis([2013,2018,0,50])\n",
    "    plt.xlabel('Year')\n",
    "    plt.ylabel('Ranking')\n",
    "    plt.title('Ranking by year: ' + name1 + \" and \" + name2)\n",
    "    plt.legend(loc = 2)\n",
    "    plt.show()\n",
    "\n",
    "#Let's try it out:\n",
    "tworc_ranking(\"El Toro\", \"Boulder Dash\", df_wood)"
   ]
  },
  {
   "cell_type": "markdown",
   "metadata": {},
   "source": [
    "Write a function that will plot the ranking of the top n ranked roller coasters over time as lines. Your function should take a number n and a ranking DataFrame as arguments. Make sure to include informative labels that describe your visualization.\n",
    "\n",
    "For example, if n == 5, your function should plot a line for each roller coaster that has a rank of 5 or lower.\n",
    "\n",
    "Call your function with a value for n and either the wood ranking or steel ranking DataFrame."
   ]
  },
  {
   "cell_type": "code",
   "execution_count": 17,
   "metadata": {},
   "outputs": [
    {
     "data": {
      "image/png": "[encoded data removed]",
      "text/plain": [
       "<Figure size 432x288 with 1 Axes>"
      ]
     },
     "metadata": {
      "needs_background": "light"
     },
     "output_type": "display_data"
    }
   ],
   "source": [
    "#To solve this, we need to iterate inside our function to make one line for each roller coaster that fits into our statement.\n",
    "#It is important to correctly label each line.\n",
    "\n",
    "def top_rc(n,df):\n",
    "    df1 = df[df.Rank <= n].reset_index()\n",
    "    ax = plt.subplot(1,1,1)\n",
    "    ax.invert_yaxis()\n",
    "    for rc in set(df1.Name):\n",
    "        rc_rankings = df1[df1['Name'] == rc]\n",
    "        plt.plot(rc_rankings['Year'], rc_rankings['Rank'], label = rc)\n",
    "    plt.axis([2013,2018,0,10])\n",
    "    plt.xlabel('Year')\n",
    "    plt.ylabel('Ranking')\n",
    "    plt.legend()\n",
    "    plt.title('Evolution of the ' + str(n) + \" top ranked roller coasters\")\n",
    "    plt.show()\n",
    "    \n",
    "\n",
    "#We call this function to take a look of all the lines we require:    \n",
    "top_rc(2,df_wood)"
   ]
  },
  {
   "cell_type": "markdown",
   "metadata": {},
   "source": [
    "Now that you’ve visualized rankings over time, let’s dive into the actual statistics of roller coasters themselves. Captain Coaster is a popular site for recording roller coaster information. Data on all roller coasters documented on Captain Coaster has been accessed through its API and stored in roller_coasters.csv. Load the data from the csv into a DataFrame and inspect it to gain familiarity with the data."
   ]
  },
  {
   "cell_type": "code",
   "execution_count": 18,
   "metadata": {},
   "outputs": [
    {
     "data": {
      "text/html": [
       "<div>\n",
       "<style scoped>\n",
       "    .dataframe tbody tr th:only-of-type {\n",
       "        vertical-align: middle;\n",
       "    }\n",
       "\n",
       "    .dataframe tbody tr th {\n",
       "        vertical-align: top;\n",
       "    }\n",
       "\n",
       "    .dataframe thead th {\n",
       "        text-align: right;\n",
       "    }\n",
       "</style>\n",
       "<table border=\"1\" class=\"dataframe\">\n",
       "  <thead>\n",
       "    <tr style=\"text-align: right;\">\n",
       "      <th></th>\n",
       "      <th>name</th>\n",
       "      <th>material_type</th>\n",
       "      <th>seating_type</th>\n",
       "      <th>speed</th>\n",
       "      <th>height</th>\n",
       "      <th>length</th>\n",
       "      <th>num_inversions</th>\n",
       "      <th>manufacturer</th>\n",
       "      <th>park</th>\n",
       "      <th>status</th>\n",
       "    </tr>\n",
       "  </thead>\n",
       "  <tbody>\n",
       "    <tr>\n",
       "      <th>0</th>\n",
       "      <td>Goudurix</td>\n",
       "      <td>Steel</td>\n",
       "      <td>Sit Down</td>\n",
       "      <td>75.0</td>\n",
       "      <td>37.0</td>\n",
       "      <td>950.0</td>\n",
       "      <td>7.0</td>\n",
       "      <td>Vekoma</td>\n",
       "      <td>Parc Asterix</td>\n",
       "      <td>status.operating</td>\n",
       "    </tr>\n",
       "    <tr>\n",
       "      <th>1</th>\n",
       "      <td>Dream catcher</td>\n",
       "      <td>Steel</td>\n",
       "      <td>Suspended</td>\n",
       "      <td>45.0</td>\n",
       "      <td>25.0</td>\n",
       "      <td>600.0</td>\n",
       "      <td>0.0</td>\n",
       "      <td>Vekoma</td>\n",
       "      <td>Bobbejaanland</td>\n",
       "      <td>status.operating</td>\n",
       "    </tr>\n",
       "    <tr>\n",
       "      <th>2</th>\n",
       "      <td>Alucinakis</td>\n",
       "      <td>Steel</td>\n",
       "      <td>Sit Down</td>\n",
       "      <td>30.0</td>\n",
       "      <td>8.0</td>\n",
       "      <td>250.0</td>\n",
       "      <td>0.0</td>\n",
       "      <td>Zamperla</td>\n",
       "      <td>Terra Mítica</td>\n",
       "      <td>status.operating</td>\n",
       "    </tr>\n",
       "    <tr>\n",
       "      <th>3</th>\n",
       "      <td>Anaconda</td>\n",
       "      <td>Wooden</td>\n",
       "      <td>Sit Down</td>\n",
       "      <td>85.0</td>\n",
       "      <td>35.0</td>\n",
       "      <td>1200.0</td>\n",
       "      <td>0.0</td>\n",
       "      <td>William J. Cobb</td>\n",
       "      <td>Walygator Parc</td>\n",
       "      <td>status.operating</td>\n",
       "    </tr>\n",
       "    <tr>\n",
       "      <th>4</th>\n",
       "      <td>Azteka</td>\n",
       "      <td>Steel</td>\n",
       "      <td>Sit Down</td>\n",
       "      <td>55.0</td>\n",
       "      <td>17.0</td>\n",
       "      <td>500.0</td>\n",
       "      <td>0.0</td>\n",
       "      <td>Soquet</td>\n",
       "      <td>Le Pal</td>\n",
       "      <td>status.operating</td>\n",
       "    </tr>\n",
       "  </tbody>\n",
       "</table>\n",
       "</div>"
      ],
      "text/plain": [
       "            name material_type seating_type  speed  height  length  \\\n",
       "0       Goudurix         Steel     Sit Down   75.0    37.0   950.0   \n",
       "1  Dream catcher         Steel    Suspended   45.0    25.0   600.0   \n",
       "2     Alucinakis         Steel     Sit Down   30.0     8.0   250.0   \n",
       "3       Anaconda        Wooden     Sit Down   85.0    35.0  1200.0   \n",
       "4         Azteka         Steel     Sit Down   55.0    17.0   500.0   \n",
       "\n",
       "   num_inversions     manufacturer            park            status  \n",
       "0             7.0           Vekoma    Parc Asterix  status.operating  \n",
       "1             0.0           Vekoma   Bobbejaanland  status.operating  \n",
       "2             0.0         Zamperla    Terra Mítica  status.operating  \n",
       "3             0.0  William J. Cobb  Walygator Parc  status.operating  \n",
       "4             0.0           Soquet          Le Pal  status.operating  "
      ]
     },
     "execution_count": 18,
     "metadata": {},
     "output_type": "execute_result"
    }
   ],
   "source": [
    "#First, we must save the file into a DataFrame, and then call it to get a hint of how it is like\n",
    "df_actual = pd.read_csv('roller_coasters.csv')\n",
    "df_actual.head(5)"
   ]
  },
  {
   "cell_type": "code",
   "execution_count": 19,
   "metadata": {},
   "outputs": [
    {
     "name": "stdout",
     "output_type": "stream",
     "text": [
      "<class 'pandas.core.frame.DataFrame'>\n",
      "RangeIndex: 2802 entries, 0 to 2801\n",
      "Data columns (total 10 columns):\n",
      " #   Column          Non-Null Count  Dtype  \n",
      "---  ------          --------------  -----  \n",
      " 0   name            2799 non-null   object \n",
      " 1   material_type   2802 non-null   object \n",
      " 2   seating_type    2802 non-null   object \n",
      " 3   speed           1478 non-null   float64\n",
      " 4   height          1667 non-null   float64\n",
      " 5   length          1675 non-null   float64\n",
      " 6   num_inversions  2405 non-null   float64\n",
      " 7   manufacturer    2802 non-null   object \n",
      " 8   park            2802 non-null   object \n",
      " 9   status          2802 non-null   object \n",
      "dtypes: float64(4), object(6)\n",
      "memory usage: 219.0+ KB\n"
     ]
    }
   ],
   "source": [
    "#Let's dig into its info\n",
    "df_actual.info()"
   ]
  },
  {
   "cell_type": "code",
   "execution_count": 20,
   "metadata": {},
   "outputs": [
    {
     "data": {
      "text/plain": [
       "status\n",
       "status.announced               39\n",
       "status.closed.definitely      439\n",
       "status.closed.temporarily      25\n",
       "status.construction            41\n",
       "status.operating             2172\n",
       "status.relocated               22\n",
       "status.retracked               16\n",
       "status.rumored                 11\n",
       "status.unknown                 34\n",
       "Name: name, dtype: int64"
      ]
     },
     "execution_count": 20,
     "metadata": {},
     "output_type": "execute_result"
    }
   ],
   "source": [
    "#It´s our turn to look into some insightful data. Hoy many of the roller coasters are operating? \n",
    "#How is the situation for the other ones?\n",
    "df_actual.groupby('status').name.count()"
   ]
  },
  {
   "cell_type": "code",
   "execution_count": 21,
   "metadata": {},
   "outputs": [
    {
     "name": "stdout",
     "output_type": "stream",
     "text": [
      "               name  speed\n",
      "1397  Formula Rossa  240.0\n"
     ]
    }
   ],
   "source": [
    "#Which is the one that achieves the highest speed?\n",
    "max_speed= df_actual.speed.max()\n",
    "max_speed_coaster = df_actual[df_actual.speed==max_speed]\n",
    "print(max_speed_coaster[['name', 'speed']])\n",
    "                          "
   ]
  },
  {
   "cell_type": "code",
   "execution_count": 22,
   "metadata": {},
   "outputs": [
    {
     "name": "stdout",
     "output_type": "stream",
     "text": [
      "                name  length\n",
      "2645  Alpine-Coaster  2920.0\n"
     ]
    }
   ],
   "source": [
    "#Which is the roller coaster ride with more length?\n",
    "max_length= df_actual.length.max()\n",
    "max_length_coaster = df_actual[df_actual.length==max_length]\n",
    "print(max_length_coaster[['name', 'length']])"
   ]
  },
  {
   "cell_type": "code",
   "execution_count": 23,
   "metadata": {},
   "outputs": [
    {
     "data": {
      "text/html": [
       "<div>\n",
       "<style scoped>\n",
       "    .dataframe tbody tr th:only-of-type {\n",
       "        vertical-align: middle;\n",
       "    }\n",
       "\n",
       "    .dataframe tbody tr th {\n",
       "        vertical-align: top;\n",
       "    }\n",
       "\n",
       "    .dataframe thead th {\n",
       "        text-align: right;\n",
       "    }\n",
       "</style>\n",
       "<table border=\"1\" class=\"dataframe\">\n",
       "  <thead>\n",
       "    <tr style=\"text-align: right;\">\n",
       "      <th></th>\n",
       "      <th>name</th>\n",
       "      <th>seating_type</th>\n",
       "      <th>speed</th>\n",
       "      <th>height</th>\n",
       "      <th>length</th>\n",
       "      <th>num_inversions</th>\n",
       "      <th>manufacturer</th>\n",
       "      <th>park</th>\n",
       "      <th>status</th>\n",
       "    </tr>\n",
       "    <tr>\n",
       "      <th>material_type</th>\n",
       "      <th></th>\n",
       "      <th></th>\n",
       "      <th></th>\n",
       "      <th></th>\n",
       "      <th></th>\n",
       "      <th></th>\n",
       "      <th></th>\n",
       "      <th></th>\n",
       "      <th></th>\n",
       "    </tr>\n",
       "  </thead>\n",
       "  <tbody>\n",
       "    <tr>\n",
       "      <th>Hybrid</th>\n",
       "      <td>21</td>\n",
       "      <td>21</td>\n",
       "      <td>19</td>\n",
       "      <td>20</td>\n",
       "      <td>19</td>\n",
       "      <td>20</td>\n",
       "      <td>21</td>\n",
       "      <td>21</td>\n",
       "      <td>21</td>\n",
       "    </tr>\n",
       "    <tr>\n",
       "      <th>Steel</th>\n",
       "      <td>2058</td>\n",
       "      <td>2059</td>\n",
       "      <td>1174</td>\n",
       "      <td>1309</td>\n",
       "      <td>1281</td>\n",
       "      <td>2026</td>\n",
       "      <td>2059</td>\n",
       "      <td>2059</td>\n",
       "      <td>2059</td>\n",
       "    </tr>\n",
       "    <tr>\n",
       "      <th>Wooden</th>\n",
       "      <td>189</td>\n",
       "      <td>189</td>\n",
       "      <td>153</td>\n",
       "      <td>174</td>\n",
       "      <td>172</td>\n",
       "      <td>169</td>\n",
       "      <td>189</td>\n",
       "      <td>189</td>\n",
       "      <td>189</td>\n",
       "    </tr>\n",
       "    <tr>\n",
       "      <th>na</th>\n",
       "      <td>531</td>\n",
       "      <td>533</td>\n",
       "      <td>132</td>\n",
       "      <td>164</td>\n",
       "      <td>203</td>\n",
       "      <td>190</td>\n",
       "      <td>533</td>\n",
       "      <td>533</td>\n",
       "      <td>533</td>\n",
       "    </tr>\n",
       "  </tbody>\n",
       "</table>\n",
       "</div>"
      ],
      "text/plain": [
       "               name  seating_type  speed  height  length  num_inversions  \\\n",
       "material_type                                                              \n",
       "Hybrid           21            21     19      20      19              20   \n",
       "Steel          2058          2059   1174    1309    1281            2026   \n",
       "Wooden          189           189    153     174     172             169   \n",
       "na              531           533    132     164     203             190   \n",
       "\n",
       "               manufacturer  park  status  \n",
       "material_type                              \n",
       "Hybrid                   21    21      21  \n",
       "Steel                  2059  2059    2059  \n",
       "Wooden                  189   189     189  \n",
       "na                      533   533     533  "
      ]
     },
     "execution_count": 23,
     "metadata": {},
     "output_type": "execute_result"
    }
   ],
   "source": [
    "#Finally, let's count how many roller coasters are made of wood and hoy many are made of steel. \n",
    "#We will find out that there are 531 entries that were not defined as any of the material types:\n",
    "df_actual.groupby('material_type').count()"
   ]
  },
  {
   "cell_type": "markdown",
   "metadata": {},
   "source": [
    "Write a function that plots a histogram of any numeric column of the roller coaster DataFrame. Your function should take a DataFrame and a column name for which a histogram should be constructed as arguments. Make sure to include informative labels that describe your visualization.\n",
    "\n",
    "Call your function with the roller coaster DataFrame and one of the column names."
   ]
  },
  {
   "cell_type": "code",
   "execution_count": 24,
   "metadata": {},
   "outputs": [
    {
     "data": {
      "image/png": "[encoded data removed]",
      "text/plain": [
       "<Figure size 432x288 with 1 Axes>"
      ]
     },
     "metadata": {
      "needs_background": "light"
     },
     "output_type": "display_data"
    }
   ],
   "source": [
    "#This is one way we can create the function to show a histogram of a given column name and a DataFrame:\n",
    "\n",
    "def coaster_histogram(df,column_name):\n",
    "    data_to_work_on = df[column_name]\n",
    "    plt.hist(data_to_work_on.dropna(), color = \"red\")\n",
    "    plt.xlabel(column_name)\n",
    "    plt.ylabel('roller coasters')\n",
    "    plt.legend([column_name + \" of roller coasters\"])\n",
    "    plt.title(\"Histogram of the \" + column_name + \" of a roller coaster\")\n",
    "    plt.show()\n",
    "    \n",
    "    \n",
    "    \n",
    "coaster_histogram(df_actual,'length')"
   ]
  },
  {
   "cell_type": "markdown",
   "metadata": {},
   "source": [
    "Write a function that creates a bar chart showing the number of inversions for each roller coaster at an amusement park. Your function should take the roller coaster DataFrame and an amusement park name as arguments. Make sure to include informative labels that describe your visualization.\n",
    "\n",
    "Call your function with the roller coaster DataFrame and an amusement park name."
   ]
  },
  {
   "cell_type": "code",
   "execution_count": 25,
   "metadata": {},
   "outputs": [
    {
     "data": {
      "image/png": "[encoded data removed]",
      "text/plain": [
       "<Figure size 432x288 with 1 Axes>"
      ]
     },
     "metadata": {
      "needs_background": "light"
     },
     "output_type": "display_data"
    }
   ],
   "source": [
    "#Now, it is our turn to make a bar graph, with the number of inversions for a given amusement park. \n",
    "#It is important to rotate the labels of the x-axis, because if can be very hard to read otherwise.\n",
    "\n",
    "def coaster_inversions_bar(df,park):\n",
    "    data_to_work_on = df[df.park == park]\n",
    "    ax = plt.subplot(1,1,1)\n",
    "    plt.bar(data_to_work_on.name, data_to_work_on.num_inversions)\n",
    "    ax.set_xticks(data_to_work_on.name)\n",
    "    ax.set_xticklabels(data_to_work_on.name, rotation = 30)\n",
    "    plt.xlabel(\"Roller Coasters of \" + park)\n",
    "    plt.ylabel(\"Number of Inversions\")\n",
    "    plt.title(\"Number of Inversions of the \" + park)\n",
    "    plt.show()\n",
    "    \n",
    "    \n",
    "    \n",
    "coaster_inversions_bar(df_actual,\"Parc Asterix\")"
   ]
  },
  {
   "cell_type": "markdown",
   "metadata": {},
   "source": [
    "Write a function that creates a pie chart that compares the number of operating roller coasters ('status.operating') to the number of closed roller coasters ('status.closed.definitely'). Your function should take the roller coaster DataFrame as an argument. Make sure to include informative labels that describe your visualization.\n",
    "\n",
    "Call your function with the roller coaster DataFrame."
   ]
  },
  {
   "cell_type": "code",
   "execution_count": 26,
   "metadata": {},
   "outputs": [
    {
     "data": {
      "image/png": "[encoded data removed]",
      "text/plain": [
       "<Figure size 432x288 with 1 Axes>"
      ]
     },
     "metadata": {},
     "output_type": "display_data"
    }
   ],
   "source": [
    "#To make this pie chart, we can start making two variables to work on.\n",
    "#Then it is a must to correctly label each one in the plot.\n",
    "\n",
    "def operating_rc(df):\n",
    "    operating_rc = df[df.status == 'status.operating']\n",
    "    closed_rc = df[df.status == 'status.closed.definitely']\n",
    "    counts = len(operating_rc), len(closed_rc)\n",
    "    ax=plt.subplot(1,1,1)\n",
    "    plt.pie(counts, labels = (['Operating', 'Closed']), autopct='%0.2f%%')   \n",
    "    plt.axis('equal')\n",
    "    plt.title('Operating vs Closed roller coasters')\n",
    "    plt.show()\n",
    "\n",
    "operating_rc(df_actual)"
   ]
  },
  {
   "cell_type": "markdown",
   "metadata": {},
   "source": [
    ".scatter() is another useful function in matplotlib that you might not have seen before. .scatter() produces a scatter plot, which is similar to .plot() in that it plots points on a figure. .scatter(), however, does not connect the points with a line. This allows you to analyze the relationship between to variables. Find .scatter()‘s documentation here.\n",
    "\n",
    "Write a function that creates a scatter plot of two numeric columns of the roller coaster DataFrame. Your function should take the roller coaster DataFrame and two-column names as arguments. Make sure to include informative labels that describe your visualization.\n",
    "\n",
    "Call your function with the roller coaster DataFrame and two-column names."
   ]
  },
  {
   "cell_type": "code",
   "execution_count": 27,
   "metadata": {},
   "outputs": [
    {
     "data": {
      "image/png": "[encoded data removed]",
      "text/plain": [
       "<Figure size 432x288 with 1 Axes>"
      ]
     },
     "metadata": {
      "needs_background": "light"
     },
     "output_type": "display_data"
    },
    {
     "name": "stdout",
     "output_type": "stream",
     "text": [
      "None\n"
     ]
    }
   ],
   "source": [
    "#This scatter plot is only possible if we define the x variable first.\n",
    "#Then, we scatter each of the two columns in the same graph.\n",
    "\n",
    "def scatter_rc(df,column1,column2):\n",
    "    c1 = df[column1]\n",
    "    c2 = df[column2]\n",
    "    x = range(len(df))\n",
    "    ax = plt.subplot(1,1,1)\n",
    "    plt.scatter(x,c1, alpha = 0.5, color = 'blue', label = column1)\n",
    "    plt.scatter(x,c2, alpha = 0.5, color = 'red', label = column2)\n",
    "    plt.xlabel('Variables')\n",
    "    plt.ylabel('Roller Coasters')\n",
    "    plt.title(column1 + \" vs \" + column2)\n",
    "    plt.legend()\n",
    "    plt.show()\n",
    "    \n",
    "    \n",
    "print(scatter_rc(df_actual,'speed', 'length'))"
   ]
  }
 ],
 "metadata": {
  "kernelspec": {
   "display_name": "Python 3",
   "language": "python",
   "name": "python3"
  },
  "language_info": {
   "codemirror_mode": {
    "name": "ipython",
    "version": 3
   },
   "file_extension": ".py",
   "mimetype": "text/x-python",
   "name": "python",
   "nbconvert_exporter": "python",
   "pygments_lexer": "ipython3",
   "version": "3.8.3"
  }
 },
 "nbformat": 4,
 "nbformat_minor": 4
}
